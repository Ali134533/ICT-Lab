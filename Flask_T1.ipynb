{
 "cells": [
  {
   "cell_type": "markdown",
   "id": "ed197571",
   "metadata": {},
   "source": [
    "<b>Module"
   ]
  },
  {
   "cell_type": "code",
   "execution_count": null,
   "id": "7985a572",
   "metadata": {},
   "outputs": [],
   "source": [
    "from flask import Flask , redirect , url_for"
   ]
  },
  {
   "cell_type": "markdown",
   "id": "e2803f9d",
   "metadata": {},
   "source": [
    "<b>Creating the Simple Flask Application"
   ]
  },
  {
   "cell_type": "code",
   "execution_count": null,
   "id": "e770d33f",
   "metadata": {},
   "outputs": [],
   "source": [
    "# Creating the WSGI \n",
    "app = Flask(__name__)\n",
    "\n",
    "# Creating the First Decorator\n",
    "@app.route('/')\n",
    "def printHome():\n",
    "    return 'Simple Skeleton of Flask App'\n",
    "\n",
    "# Creating the Second Decorator\n",
    "@app.route('/contact')\n",
    "def printContact():\n",
    "    return 'Hello Contact Page'\n",
    "\n",
    "# Creating the Third Decorator\n",
    "@app.route('/service')\n",
    "def printService():\n",
    "    return 'Hello Service Page'\n",
    "\n",
    "# Creating the Fourth Decorator\n",
    "@app.route('/help')\n",
    "def printHelp():\n",
    "    return 'Hello Help Page'\n",
    "\n",
    "# Main Part\n",
    "if __name__ == '__main__':\n",
    "    app.run()"
   ]
  },
  {
   "cell_type": "markdown",
   "id": "5535f499",
   "metadata": {},
   "source": [
    "<b>Creating the Dynamically URL & Variable in Flask"
   ]
  },
  {
   "cell_type": "code",
   "execution_count": null,
   "id": "ad971f28",
   "metadata": {},
   "outputs": [],
   "source": [
    "# Creating the Flask Obejct (WSGI)\n",
    "app = Flask(__name__)\n",
    "\n",
    "# Creating the First Decorator\n",
    "@app.route('/')\n",
    "def printHome():\n",
    "    return \"Creating the Dynamically URL in Flask\"\n",
    "\n",
    "# Creating the Second Decorator\n",
    "@app.route('/pass/<int:score>')\n",
    "def printPass(score):\n",
    "    return \"You're passed and your score is : {}\".format(score)\n",
    "\n",
    "# Creating the Third Decorator\n",
    "@app.route('/fail/<int:score>')\n",
    "def printFail(score):\n",
    "    return \"You're Failed and your score is : {}\".format(score)\n",
    "\n",
    "# Creating the Fourth Decorator\n",
    "@app.route('/result/<int:marks>')\n",
    "def printResult(marks):\n",
    "    result = \"\"\n",
    "    if marks >= 60:\n",
    "        result = \"printPass\"\n",
    "    else:\n",
    "        result = \"printFail\"\n",
    "    return redirect(url_for(result , score = marks)) \n",
    "\n",
    "\n",
    "# Main Part\n",
    "if __name__ == \"__main__\":\n",
    "    app.run()"
   ]
  }
 ],
 "metadata": {
  "kernelspec": {
   "display_name": "Python 3 (ipykernel)",
   "language": "python",
   "name": "python3"
  },
  "language_info": {
   "codemirror_mode": {
    "name": "ipython",
    "version": 3
   },
   "file_extension": ".py",
   "mimetype": "text/x-python",
   "name": "python",
   "nbconvert_exporter": "python",
   "pygments_lexer": "ipython3",
   "version": "3.9.12"
  }
 },
 "nbformat": 4,
 "nbformat_minor": 5
}
